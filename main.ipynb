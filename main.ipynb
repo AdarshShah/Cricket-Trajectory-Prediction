{
 "cells": [
  {
   "cell_type": "code",
   "execution_count": 3,
   "metadata": {},
   "outputs": [],
   "source": [
    "import numpy as np\n",
    "import pandas as pd\n",
    "from matplotlib import pyplot as plt\n",
    "from math import exp,sqrt\n",
    "from scipy import optimize as op\n",
    "from numpy.linalg import inv,norm\n",
    "from numpy import transpose as tr\n",
    "from pathlib import Path"
   ]
  },
  {
   "cell_type": "markdown",
   "metadata": {},
   "source": [
    "# Data Preprocessing"
   ]
  },
  {
   "cell_type": "code",
   "execution_count": 52,
   "metadata": {},
   "outputs": [],
   "source": [
    "main_data = pd.read_csv('./04_cricket_1999to2011.csv')\n",
    "\n",
    "data = main_data\n",
    "data = data[['Over','Runs','Total.Out']]\n",
    "# Nx50 Matrix holding history data \n",
    "Runs_wickets = list()\n",
    "\n",
    "\n",
    "inning = np.zeros(100)\n",
    "i=0\n",
    "for d in data.itertuples():\n",
    "    if d[1]==1 or i==50:\n",
    "        while i!=50:\n",
    "            inning[i],inning[i+50] = inning[i-1],inning[50+i-1]\n",
    "            i+=1\n",
    "        Runs_wickets.append(inning)\n",
    "        inning = np.zeros(100)\n",
    "        i=0\n",
    "    inning[i],inning[i+50] = inning[i-1]+d[2],d[3]\n",
    "    i+=1\n",
    "\n",
    "Runs_wickets = np.array(Runs_wickets)     \n",
    "Runs_wickets = Runs_wickets[1:,:]\n"
   ]
  },
  {
   "cell_type": "markdown",
   "metadata": {},
   "source": [
    "## Match till now, Overs = 30"
   ]
  },
  {
   "cell_type": "code",
   "execution_count": 124,
   "metadata": {},
   "outputs": [
    {
     "name": "stdout",
     "output_type": "stream",
     "text": [
      "(200, 100)\n",
      "[  1   5  10  16  21  26  31  36  41  47  52  57  62  67  73  78  83  88\n",
      "  93  98 103 108 114 119 124 129 134 140 145 150 154 157 159 159 160 163\n",
      " 166 171 177 183 188 192 199 204 208 211 210 212 219 226   0   0   1   1\n",
      "   1   1   1   1   1   2   2   2   2   2   2   3   3   3   3   3   3   3\n",
      "   4   4   4   4   4   5   5   5   6   6   6   6   7   7   7   7   7   8\n",
      "   8   8   8   9   9  10  10  10  10  10]\n"
     ]
    }
   ],
   "source": [
    "#Additional Variables\n",
    "k = 10\n",
    "intervention_point = 30\n",
    "\n",
    "def mRSC(X,data,intervention_point,k):\n",
    "\n",
    "    U,S,V = np.linalg.svd(data)\n",
    "    S_ = np.diag(S[:k])\n",
    "    M = U[:,:k]@S_@V[:k,:]    \n",
    "\n",
    "    M_k = np.zeros(shape=(M.shape[0],2*intervention_point))\n",
    "    M_k[:,:intervention_point],M_k[:,intervention_point:] = M[:,:intervention_point],M[:,50:50+intervention_point] \n",
    "\n",
    "    #xopt = op.least_squares(lambda v : X-v@M_k,np.zeros(M_k.shape[0]))\n",
    "    opt_result = op.least_squares(lambda v : X-v@M_k,np.zeros(M_k.shape[0]))\n",
    "    xopt = opt_result.x\n",
    "    print(M.shape)\n",
    "    result = np.int16(np.round(xopt@M))\n",
    "    print(result)  \n",
    "\n",
    "X = np.round(np.linspace(0,150,30))\n",
    "Y = np.round(np.linspace(0,5,30))\n",
    "Z = np.zeros(60)\n",
    "Z[:30],Z[30:] = X,Y\n",
    "#print(Z)\n",
    "#print(Runs_wickets.shape[0])\n",
    "mRSC(Z,cdata,30,25)  "
   ]
  },
  {
   "cell_type": "code",
   "execution_count": 101,
   "metadata": {},
   "outputs": [],
   "source": [
    "cdata = Runs_wickets[np.random.randint(low=0,high=2845,size=200),:]"
   ]
  },
  {
   "cell_type": "code",
   "execution_count": 119,
   "metadata": {},
   "outputs": [
    {
     "ename": "ValueError",
     "evalue": "matmul: Input operand 1 has a mismatch in its core dimension 0, with gufunc signature (n?,k),(k,m?)->(n?,m?) (size 200 is different from 100)",
     "output_type": "error",
     "traceback": [
      "\u001b[0;31m---------------------------------------------------------------------------\u001b[0m",
      "\u001b[0;31mValueError\u001b[0m                                Traceback (most recent call last)",
      "\u001b[0;32m/var/folders/ds/fx0_p47j1rxg3ny2fk79z4340000gn/T/ipykernel_67434/4220311469.py\u001b[0m in \u001b[0;36m<module>\u001b[0;34m\u001b[0m\n\u001b[1;32m      5\u001b[0m \u001b[0;31m#print(Z)\u001b[0m\u001b[0;34m\u001b[0m\u001b[0;34m\u001b[0m\u001b[0;34m\u001b[0m\u001b[0m\n\u001b[1;32m      6\u001b[0m \u001b[0;31m#print(Runs_wickets.shape[0])\u001b[0m\u001b[0;34m\u001b[0m\u001b[0;34m\u001b[0m\u001b[0;34m\u001b[0m\u001b[0m\n\u001b[0;32m----> 7\u001b[0;31m \u001b[0mmRSC\u001b[0m\u001b[0;34m(\u001b[0m\u001b[0mZ\u001b[0m\u001b[0;34m,\u001b[0m\u001b[0mcdata\u001b[0m\u001b[0;34m,\u001b[0m\u001b[0;36m30\u001b[0m\u001b[0;34m,\u001b[0m\u001b[0;36m25\u001b[0m\u001b[0;34m)\u001b[0m\u001b[0;34m\u001b[0m\u001b[0;34m\u001b[0m\u001b[0m\n\u001b[0m",
      "\u001b[0;32m/var/folders/ds/fx0_p47j1rxg3ny2fk79z4340000gn/T/ipykernel_67434/1367145649.py\u001b[0m in \u001b[0;36mmRSC\u001b[0;34m(X, data, intervention_point, k)\u001b[0m\n\u001b[1;32m     16\u001b[0m     \u001b[0mxopt\u001b[0m \u001b[0;34m=\u001b[0m \u001b[0mopt_result\u001b[0m\u001b[0;34m.\u001b[0m\u001b[0mx\u001b[0m\u001b[0;34m\u001b[0m\u001b[0;34m\u001b[0m\u001b[0m\n\u001b[1;32m     17\u001b[0m     \u001b[0;31m#print(opt_result)\u001b[0m\u001b[0;34m\u001b[0m\u001b[0;34m\u001b[0m\u001b[0;34m\u001b[0m\u001b[0m\n\u001b[0;32m---> 18\u001b[0;31m     \u001b[0mresult\u001b[0m \u001b[0;34m=\u001b[0m \u001b[0mnp\u001b[0m\u001b[0;34m.\u001b[0m\u001b[0mint16\u001b[0m\u001b[0;34m(\u001b[0m\u001b[0mnp\u001b[0m\u001b[0;34m.\u001b[0m\u001b[0mceil\u001b[0m\u001b[0;34m(\u001b[0m\u001b[0mM\u001b[0m\u001b[0;34m@\u001b[0m\u001b[0mxopt\u001b[0m\u001b[0;34m)\u001b[0m\u001b[0;34m)\u001b[0m\u001b[0;34m\u001b[0m\u001b[0;34m\u001b[0m\u001b[0m\n\u001b[0m\u001b[1;32m     19\u001b[0m     \u001b[0mprint\u001b[0m\u001b[0;34m(\u001b[0m\u001b[0mresult\u001b[0m\u001b[0;34m)\u001b[0m\u001b[0;34m\u001b[0m\u001b[0;34m\u001b[0m\u001b[0m\n",
      "\u001b[0;31mValueError\u001b[0m: matmul: Input operand 1 has a mismatch in its core dimension 0, with gufunc signature (n?,k),(k,m?)->(n?,m?) (size 200 is different from 100)"
     ]
    }
   ],
   "source": []
  },
  {
   "cell_type": "code",
   "execution_count": 6,
   "metadata": {},
   "outputs": [
    {
     "data": {
      "text/plain": [
       "Index(['Match', 'Date', 'Innings', 'Over', 'Runs', 'Total.Runs',\n",
       "       'Innings.Total.Runs', 'Runs.Remaining', 'Total.Out',\n",
       "       'Innings.Total.Out', 'Outs.Remaining', 'Wickets.in.Hand', 'Run.Rate',\n",
       "       'Innings.Run.Rate', 'Run.Rate.Required', 'Initial.Run.Rate.Required',\n",
       "       'Target.Score', 'Day-night', 'At.Bat', 'Fielding', 'Home.Team',\n",
       "       'Away.Team', 'Stadium', 'Country', 'Total.Overs', 'Winning.Team',\n",
       "       'Toss.Winner', 'at.bat.wins', 'at.bat.won.toss', 'at.bat.at.home',\n",
       "       'at.bat.bat.first', 'chose_bat_1st', 'chose_bat_2nd', 'forced_bat_1st',\n",
       "       'forced_bat_2nd', 'new.game', 'Error.In.Data', 'common.support'],\n",
       "      dtype='object')"
      ]
     },
     "execution_count": 6,
     "metadata": {},
     "output_type": "execute_result"
    }
   ],
   "source": [
    "main_data = pd.read_csv('./04_cricket_1999to2011.csv')\n",
    "\n",
    "main_data.columns"
   ]
  },
  {
   "cell_type": "markdown",
   "metadata": {},
   "source": [
    "## mRSC"
   ]
  },
  {
   "cell_type": "code",
   "execution_count": 96,
   "metadata": {},
   "outputs": [
    {
     "name": "stdout",
     "output_type": "stream",
     "text": [
      "9.656703768073534\n",
      "5.186955646234871\n",
      "2.879119831939226\n",
      "1.7314195251210276\n",
      "1.1340273811871353\n",
      "0.40538596273842875\n"
     ]
    }
   ],
   "source": []
  }
 ],
 "metadata": {
  "interpreter": {
   "hash": "90394354f2cfeca35a3af5115b1d54f07220089b98fac47b1b332d34b6b3af41"
  },
  "kernelspec": {
   "display_name": "Python 3.7.11 64-bit ('e0_259_da': conda)",
   "language": "python",
   "name": "python3"
  },
  "language_info": {
   "codemirror_mode": {
    "name": "ipython",
    "version": 3
   },
   "file_extension": ".py",
   "mimetype": "text/x-python",
   "name": "python",
   "nbconvert_exporter": "python",
   "pygments_lexer": "ipython3",
   "version": "3.7.11"
  },
  "orig_nbformat": 4
 },
 "nbformat": 4,
 "nbformat_minor": 2
}
