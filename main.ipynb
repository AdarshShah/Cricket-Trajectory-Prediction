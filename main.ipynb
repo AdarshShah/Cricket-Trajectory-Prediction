{
 "cells": [
  {
   "cell_type": "code",
   "execution_count": 3,
   "metadata": {},
   "outputs": [],
   "source": [
    "import numpy as np\n",
    "import pandas as pd\n",
    "from matplotlib import pyplot as plt\n",
    "from math import exp,sqrt\n",
    "from scipy import optimize as op\n",
    "from numpy.linalg import inv,norm\n",
    "from numpy import transpose as tr\n",
    "from pathlib import Path"
   ]
  },
  {
   "cell_type": "markdown",
   "metadata": {},
   "source": [
    "# Data Preprocessing"
   ]
  },
  {
   "cell_type": "code",
   "execution_count": 52,
   "metadata": {},
   "outputs": [],
   "source": [
    "main_data = pd.read_csv('./04_cricket_1999to2011.csv')\n",
    "\n",
    "data = main_data\n",
    "data = data[['Over','Runs','Total.Out']]\n",
    "# Nx50 Matrix holding history data \n",
    "Runs_wickets = list()\n",
    "\n",
    "\n",
    "inning = np.zeros(100)\n",
    "i=0\n",
    "for d in data.itertuples():\n",
    "    if d[1]==1 or i==50:\n",
    "        while i!=50:\n",
    "            inning[i],inning[i+50] = inning[i-1],inning[50+i-1]\n",
    "            i+=1\n",
    "        Runs_wickets.append(inning)\n",
    "        inning = np.zeros(100)\n",
    "        i=0\n",
    "    inning[i],inning[i+50] = inning[i-1]+d[2],d[3]\n",
    "    i+=1\n",
    "\n",
    "Runs_wickets = np.array(Runs_wickets)     \n",
    "Runs_wickets = Runs_wickets[1:,:]\n"
   ]
  },
  {
   "cell_type": "markdown",
   "metadata": {},
   "source": [
    "## Match till now, Overs = 30"
   ]
  },
  {
   "cell_type": "code",
   "execution_count": 128,
   "metadata": {},
   "outputs": [],
   "source": [
    "#Additional Variables\n",
    "k = 10\n",
    "intervention_point = 30\n",
    "\n",
    "def mRSC(X,data,intervention_point,k):\n",
    "\n",
    "    U,S,V = np.linalg.svd(data)\n",
    "    S_ = np.diag(S[:k])\n",
    "    M = U[:,:k]@S_@V[:k,:]    \n",
    "\n",
    "    M_k = np.zeros(shape=(M.shape[0],2*intervention_point))\n",
    "    M_k[:,:intervention_point],M_k[:,intervention_point:] = M[:,:intervention_point],M[:,50:50+intervention_point] \n",
    "\n",
    "    opt_result = op.least_squares(lambda v : X-v@M_k,np.zeros(M_k.shape[0]))\n",
    "    xopt = opt_result.x\n",
    "    print(M.shape)\n",
    "    result = np.int16(np.round(xopt@M))\n",
    "    print(result)    "
   ]
  },
  {
   "cell_type": "code",
   "execution_count": 129,
   "metadata": {},
   "outputs": [],
   "source": [
    "cdata = Runs_wickets[np.random.randint(low=0,high=2845,size=2000),:]"
   ]
  },
  {
   "cell_type": "code",
   "execution_count": 130,
   "metadata": {},
   "outputs": [
    {
     "name": "stdout",
     "output_type": "stream",
     "text": [
      "(2000, 100)\n",
      "[  0   5  10  16  21  26  31  36  41  47  52  57  62  67  72  78  83  88\n",
      "  93  98 103 109 114 119 124 129 134 140 145 150 156 163 171 178 184 190\n",
      " 193 195 194 192 191 192 195 195 192 183 172 161 152 147   0   0   0   1\n",
      "   1   1   1   1   1   2   2   2   2   2   2   3   3   3   3   3   3   3\n",
      "   4   4   4   4   4   5   5   5   5   5   5   6   6   6   6   7   7   7\n",
      "   7   7   7   7   7   8   8   8   7   7]\n"
     ]
    }
   ],
   "source": [
    "X = np.round(np.linspace(0,150,30))\n",
    "Y = np.round(np.linspace(0,5,30))\n",
    "Z = np.zeros(60)\n",
    "Z[:30],Z[30:] = X,Y\n",
    "#print(Z)\n",
    "#print(Runs_wickets.shape[0])\n",
    "mRSC(Z,cdata,30,25)"
   ]
  },
  {
   "cell_type": "code",
   "execution_count": 6,
   "metadata": {},
   "outputs": [
    {
     "data": {
      "text/plain": [
       "Index(['Match', 'Date', 'Innings', 'Over', 'Runs', 'Total.Runs',\n",
       "       'Innings.Total.Runs', 'Runs.Remaining', 'Total.Out',\n",
       "       'Innings.Total.Out', 'Outs.Remaining', 'Wickets.in.Hand', 'Run.Rate',\n",
       "       'Innings.Run.Rate', 'Run.Rate.Required', 'Initial.Run.Rate.Required',\n",
       "       'Target.Score', 'Day-night', 'At.Bat', 'Fielding', 'Home.Team',\n",
       "       'Away.Team', 'Stadium', 'Country', 'Total.Overs', 'Winning.Team',\n",
       "       'Toss.Winner', 'at.bat.wins', 'at.bat.won.toss', 'at.bat.at.home',\n",
       "       'at.bat.bat.first', 'chose_bat_1st', 'chose_bat_2nd', 'forced_bat_1st',\n",
       "       'forced_bat_2nd', 'new.game', 'Error.In.Data', 'common.support'],\n",
       "      dtype='object')"
      ]
     },
     "execution_count": 6,
     "metadata": {},
     "output_type": "execute_result"
    }
   ],
   "source": [
    "main_data = pd.read_csv('./04_cricket_1999to2011.csv')\n",
    "\n",
    "main_data.columns"
   ]
  },
  {
   "cell_type": "markdown",
   "metadata": {},
   "source": [
    "## mRSC"
   ]
  },
  {
   "cell_type": "code",
   "execution_count": 96,
   "metadata": {},
   "outputs": [
    {
     "name": "stdout",
     "output_type": "stream",
     "text": [
      "9.656703768073534\n",
      "5.186955646234871\n",
      "2.879119831939226\n",
      "1.7314195251210276\n",
      "1.1340273811871353\n",
      "0.40538596273842875\n"
     ]
    }
   ],
   "source": []
  }
 ],
 "metadata": {
  "interpreter": {
   "hash": "90394354f2cfeca35a3af5115b1d54f07220089b98fac47b1b332d34b6b3af41"
  },
  "kernelspec": {
   "display_name": "Python 3.7.11 64-bit ('e0_259_da': conda)",
   "language": "python",
   "name": "python3"
  },
  "language_info": {
   "codemirror_mode": {
    "name": "ipython",
    "version": 3
   },
   "file_extension": ".py",
   "mimetype": "text/x-python",
   "name": "python",
   "nbconvert_exporter": "python",
   "pygments_lexer": "ipython3",
   "version": "3.7.11"
  },
  "orig_nbformat": 4
 },
 "nbformat": 4,
 "nbformat_minor": 2
}
