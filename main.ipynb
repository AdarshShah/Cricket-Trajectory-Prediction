{
 "cells": [
  {
   "cell_type": "code",
   "execution_count": 59,
   "metadata": {},
   "outputs": [],
   "source": [
    "import numpy as np\n",
    "import pandas as pd\n",
    "from matplotlib import pyplot as plt\n",
    "from math import exp,sqrt\n",
    "from scipy import optimize as op"
   ]
  },
  {
   "cell_type": "markdown",
   "metadata": {},
   "source": [
    "# Data Preprocessing"
   ]
  },
  {
   "cell_type": "code",
   "execution_count": 56,
   "metadata": {},
   "outputs": [],
   "source": [
    "data = pd.read_csv('./04_cricket_1999to2011.csv')\n",
    "\n",
    "data = data[['Over','Runs','Total.Out']]\n",
    "# Nx50 Matrix holding history data \n",
    "Runs_wickets = list()\n",
    "\n",
    "\n",
    "inning = np.zeros(100)\n",
    "i=0\n",
    "for d in data.itertuples():\n",
    "    if d[1]==1 or i==50:\n",
    "        while i!=50:\n",
    "            inning[i],inning[i+50] = inning[i-1],inning[50+i-1]\n",
    "            i+=1\n",
    "        Runs_wickets.append(inning)\n",
    "        inning = np.zeros(100)\n",
    "        i=0\n",
    "    inning[i],inning[i+50] = inning[i-1]+d[2],d[3]\n",
    "    i+=1\n",
    "\n",
    "Runs_wickets = np.array(Runs_wickets)\n",
    "     \n"
   ]
  },
  {
   "cell_type": "markdown",
   "metadata": {},
   "source": [
    "## Match till now, Overs = 30"
   ]
  },
  {
   "cell_type": "code",
   "execution_count": 52,
   "metadata": {},
   "outputs": [],
   "source": [
    "# Runs and Wickets stored Overwise\n",
    "X = np.zeros(60)"
   ]
  },
  {
   "cell_type": "code",
   "execution_count": 57,
   "metadata": {},
   "outputs": [],
   "source": [
    "U,S,V = np.linalg.svd(Runs_wickets)"
   ]
  },
  {
   "cell_type": "code",
   "execution_count": 73,
   "metadata": {},
   "outputs": [
    {
     "data": {
      "text/plain": [
       "array([4.99426321e+04, 4.34539703e+03, 1.83768235e+03, 1.12498269e+03,\n",
       "       8.09454845e+02, 7.92403855e+02, 5.95062573e+02, 4.88646306e+02,\n",
       "       4.03162852e+02, 3.50209977e+02, 3.08280112e+02, 2.71608209e+02,\n",
       "       2.46508911e+02, 2.23968147e+02, 2.15452899e+02, 2.04000727e+02,\n",
       "       1.88911366e+02, 1.77861362e+02, 1.68467850e+02, 1.53951735e+02,\n",
       "       1.42857175e+02, 1.37890403e+02, 1.34672069e+02, 1.32243312e+02,\n",
       "       1.28713985e+02, 1.21793755e+02, 1.19859856e+02, 1.14016635e+02,\n",
       "       1.10673594e+02, 1.07366447e+02, 1.04573553e+02, 1.02143875e+02,\n",
       "       1.00006278e+02, 9.84598642e+01, 9.66025332e+01, 9.59612827e+01,\n",
       "       9.47416028e+01, 9.38014545e+01, 9.15459584e+01, 8.94841771e+01,\n",
       "       8.80081414e+01, 8.66953223e+01, 8.50749654e+01, 8.35088327e+01,\n",
       "       8.26483162e+01, 8.15179922e+01, 8.04410735e+01, 7.93827734e+01,\n",
       "       7.86400015e+01, 7.72431405e+01, 7.57225776e+01, 7.42333034e+01,\n",
       "       7.31902818e+01, 7.24253115e+01, 7.04746168e+01, 5.87913921e+01,\n",
       "       4.86610746e+01, 4.29866133e+01, 3.72200452e+01, 3.38524489e+01,\n",
       "       3.14457421e+01, 2.87067848e+01, 2.58431085e+01, 2.40029217e+01,\n",
       "       2.24648689e+01, 2.12476551e+01, 2.03187959e+01, 1.86944739e+01,\n",
       "       1.84303078e+01, 1.77050157e+01, 1.66705631e+01, 1.58307813e+01,\n",
       "       1.54349369e+01, 1.53260585e+01, 1.44881106e+01, 1.39673092e+01,\n",
       "       1.36681831e+01, 1.34597099e+01, 1.28844597e+01, 1.24982679e+01,\n",
       "       1.23219651e+01, 1.22697257e+01, 1.17603541e+01, 1.14939583e+01,\n",
       "       1.13530020e+01, 1.11837317e+01, 1.10698583e+01, 1.07546598e+01,\n",
       "       1.07249319e+01, 1.05902126e+01, 1.02865468e+01, 1.01125376e+01,\n",
       "       1.00198618e+01, 9.89627990e+00, 9.70246248e+00, 9.61314460e+00,\n",
       "       9.43810649e+00, 9.39218186e+00, 9.25802978e+00, 8.95277912e+00])"
      ]
     },
     "execution_count": 73,
     "metadata": {},
     "output_type": "execute_result"
    }
   ],
   "source": [
    "S"
   ]
  },
  {
   "cell_type": "code",
   "execution_count": 64,
   "metadata": {},
   "outputs": [
    {
     "data": {
      "text/plain": [
       "(100, 100)"
      ]
     },
     "execution_count": 64,
     "metadata": {},
     "output_type": "execute_result"
    }
   ],
   "source": [
    "np.shape(V)"
   ]
  },
  {
   "cell_type": "code",
   "execution_count": 72,
   "metadata": {},
   "outputs": [
    {
     "data": {
      "image/png": "[encoded data removed]",
      "text/plain": [
       "<Figure size 432x288 with 1 Axes>"
      ]
     },
     "metadata": {
      "needs_background": "light"
     },
     "output_type": "display_data"
    }
   ],
   "source": [
    "Y = np.bincount(S.astype(int))\n",
    "plt.plot(Y)\n",
    "plt.show()"
   ]
  },
  {
   "cell_type": "markdown",
   "metadata": {},
   "source": [
    "## mRSC"
   ]
  },
  {
   "cell_type": "code",
   "execution_count": null,
   "metadata": {},
   "outputs": [],
   "source": []
  }
 ],
 "metadata": {
  "interpreter": {
   "hash": "90394354f2cfeca35a3af5115b1d54f07220089b98fac47b1b332d34b6b3af41"
  },
  "kernelspec": {
   "display_name": "Python 3.7.11 64-bit ('e0_259_da': conda)",
   "language": "python",
   "name": "python3"
  },
  "language_info": {
   "codemirror_mode": {
    "name": "ipython",
    "version": 3
   },
   "file_extension": ".py",
   "mimetype": "text/x-python",
   "name": "python",
   "nbconvert_exporter": "python",
   "pygments_lexer": "ipython3",
   "version": "3.7.11"
  },
  "orig_nbformat": 4
 },
 "nbformat": 4,
 "nbformat_minor": 2
}
