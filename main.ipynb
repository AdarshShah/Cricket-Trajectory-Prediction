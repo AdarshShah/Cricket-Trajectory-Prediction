{
 "cells": [
  {
   "cell_type": "code",
   "execution_count": 363,
   "metadata": {},
   "outputs": [],
   "source": [
    "import numpy as np\n",
    "import pandas as pd\n",
    "from math import sqrt\n",
    "from scipy import optimize as op\n",
    "from matplotlib import pyplot as plt"
   ]
  },
  {
   "cell_type": "markdown",
   "metadata": {},
   "source": [
    "# Data Preprocessing"
   ]
  },
  {
   "cell_type": "code",
   "execution_count": 470,
   "metadata": {},
   "outputs": [
    {
     "name": "stdout",
     "output_type": "stream",
     "text": [
      "(126768, 4)\n"
     ]
    }
   ],
   "source": [
    "main_data = pd.read_csv('04_cricket_1999to2011.csv',sep=',')\n",
    "\n",
    "data = main_data\n",
    "data = data[['Match','Over','Runs','Total.Out']]\n",
    "data = np.array(data)\n",
    "print(data.shape)\n",
    "# Nx100 Matrix holding history data \n",
    "Innings1 = list()\n",
    "\n",
    "inning = np.zeros(100)\n",
    "i=0\n",
    "for d in data[:]:\n",
    "    if d[0]==1 or i==50:\n",
    "        while i!=50:\n",
    "            inning[i],inning[i+50] = inning[i-1],inning[50+i-1]\n",
    "            i+=1\n",
    "        Innings1.append(inning)\n",
    "        inning = np.zeros(100)\n",
    "        i=0\n",
    "    inning[i],inning[i+50] = inning[i-1]+d[2],d[3]\n",
    "    i+=1\n",
    "\n",
    "Innings1 = np.array(Innings1)     \n",
    "\n",
    "#The over at which 10 wickets fall in innings 1\n",
    "Innings1_allOut = np.zeros(Innings1.shape[0])\n",
    "i=0\n",
    "test = 1\n",
    "for inning in Innings1:\n",
    "    Innings1_allOut[i] = np.searchsorted(inning[50:],10)\n",
    "    if Innings1_allOut[i]<50 and test <= 0:\n",
    "        print(inning)\n",
    "        print(Innings1_allOut[i])\n",
    "        test += 1\n",
    "    i+=1"
   ]
  },
  {
   "cell_type": "code",
   "execution_count": 471,
   "metadata": {},
   "outputs": [
    {
     "data": {
      "text/plain": [
       "(2535, 100)"
      ]
     },
     "execution_count": 471,
     "metadata": {},
     "output_type": "execute_result"
    }
   ],
   "source": [
    "Innings1.shape"
   ]
  },
  {
   "cell_type": "code",
   "execution_count": 476,
   "metadata": {},
   "outputs": [
    {
     "name": "stdout",
     "output_type": "stream",
     "text": [
      "[6.53303788e+03 3.92736080e+02 2.71132322e+02 1.53706824e+02\n",
      " 9.52431314e+01 8.94449764e+01 7.31973594e+01 6.08393900e+01\n",
      " 5.22612287e+01 5.00327376e+01 4.71507876e+01 4.17568054e+01\n",
      " 3.69960838e+01 3.50740920e+01 3.29493439e+01 3.25154581e+01\n",
      " 3.10754136e+01 2.88559000e+01 2.65241202e+01 2.47814455e+01\n",
      " 2.31082742e+01 2.26300877e+01 2.12799420e+01 1.92057012e+01\n",
      " 1.87917341e+01 1.86015337e+01 1.73137083e+01 1.61391240e+01\n",
      " 1.58810736e+01 1.54891727e+01 1.42510591e+01 1.39522959e+01\n",
      " 1.37516489e+01 1.34453453e+01 1.26184522e+01 1.15362528e+01\n",
      " 9.92958797e+00 9.64495548e+00 9.28293702e+00 9.20932005e+00\n",
      " 8.84157323e+00 8.39550841e+00 7.39770130e+00 7.03124221e+00\n",
      " 6.36510122e+00 6.07220553e+00 5.84976001e+00 5.33580960e+00\n",
      " 4.70190675e+00 4.23899927e+00]\n",
      "[6534  393  272  154   96   90   74   61   53   51   48   42   37   36\n",
      "   33   33   32   29   27   25   24   23   22   20   19   19   18   17\n",
      "   16   16   15   14   14   14   13   12   10   10   10   10    9    9\n",
      "    8    8    7    7    6    6    5    5]\n",
      "[   5    6    7    8    9   10   12   13   14   15   16   17   18   19\n",
      "   20   22   23   24   25   27   29   32   33   36   37   42   48   51\n",
      "   53   61   74   90   96  154  272  393 6534]\n",
      "[2. 2. 2. 2. 2. 4. 1. 1. 3. 1. 2. 1. 1. 2. 1. 1. 1. 1. 1. 1. 1. 1. 2. 1.\n",
      " 1. 1. 1. 1. 1. 1. 1. 1. 1. 1. 1. 1. 1.]\n"
     ]
    },
    {
     "data": {
      "text/plain": [
       "<Figure size 432x288 with 0 Axes>"
      ]
     },
     "metadata": {},
     "output_type": "display_data"
    }
   ],
   "source": [
    "_,S,_ = np.linalg.svd(Innings1[:50])\n",
    "print(S)\n",
    "S = np.int16(np.ceil(S))\n",
    "print(S)\n",
    "\n",
    "centers = np.unique(S)\n",
    "print(centers)\n",
    "freq = np.bincount(S)\n",
    "hist = np.zeros(centers.shape[0])\n",
    "i=0\n",
    "for c in centers:\n",
    "    hist[i] = freq[c]\n",
    "    i+=1\n",
    "print(hist)\n",
    "\n",
    "plt.clf()\n",
    "plt.subplot(311)\n",
    "plt.title('Singular Value Spectrum')\n",
    "plt.plot(hist,centers,c='b',label=\"Runs\")\n",
    "\n",
    "_,S,_ = np.linalg.svd(Innings1[50:])\n",
    "S = np.abs(np.int16(np.ceil(S)))\n",
    "centers = np.unique(S)\n",
    "freq = np.bincount(S)\n",
    "hist = np.zeros(centers.shape[0])\n",
    "i=0\n",
    "for c in centers:\n",
    "    hist[i] = freq[c]\n",
    "    i+=1\n",
    "plt.subplot(312)\n",
    "plt.plot(hist,centers,label='Wickets',c='r')\n",
    "\n",
    "_,S,_ = np.linalg.svd(Innings1)\n",
    "S = np.abs(np.int16(np.ceil(S)))\n",
    "centers = np.unique(S)\n",
    "freq = np.bincount(S)\n",
    "hist = np.zeros(centers.shape[0])\n",
    "i=0\n",
    "for c in centers:\n",
    "    hist[i] = freq[c]\n",
    "    i+=1\n",
    "plt.subplot(313)\n",
    "plt.plot(hist,centers,label='Combined',c='g')\n",
    "plt.savefig('spectrum.pdf',dpi=200)\n",
    "plt.clf()\n",
    "\n"
   ]
  },
  {
   "cell_type": "code",
   "execution_count": 235,
   "metadata": {},
   "outputs": [
    {
     "data": {
      "text/plain": [
       "44.0"
      ]
     },
     "execution_count": 235,
     "metadata": {},
     "output_type": "execute_result"
    }
   ],
   "source": [
    "Innings1_allOut[0]"
   ]
  },
  {
   "cell_type": "code",
   "execution_count": 236,
   "metadata": {},
   "outputs": [
    {
     "data": {
      "text/plain": [
       "array([  4.,   6.,   9.,  11.,  17.,  20.,  22.,  23.,  30.,  30.,  34.,\n",
       "        36.,  43.,  44.,  45.,  49.,  56.,  65.,  72.,  80.,  87.,  91.,\n",
       "       100., 102., 105., 108., 108., 110., 124., 127., 130., 133., 133.,\n",
       "       135., 138., 147., 161., 162., 162., 167., 169., 176., 182., 185.,\n",
       "       196., 196., 196., 196., 196., 196.,   0.,   0.,   0.,   0.,   0.,\n",
       "         0.,   1.,   1.,   1.,   2.,   2.,   2.,   3.,   4.,   5.,   5.,\n",
       "         5.,   5.,   5.,   5.,   5.,   5.,   5.,   5.,   5.,   5.,   5.,\n",
       "         5.,   5.,   6.,   6.,   6.,   7.,   7.,   7.,   7.,   7.,   7.,\n",
       "         7.,   8.,   8.,   8.,   8.,   9.,  10.,  10.,  10.,  10.,  10.,\n",
       "        10.])"
      ]
     },
     "execution_count": 236,
     "metadata": {},
     "output_type": "execute_result"
    }
   ],
   "source": [
    "Innings1[0]"
   ]
  },
  {
   "cell_type": "code",
   "execution_count": 339,
   "metadata": {},
   "outputs": [
    {
     "name": "stdout",
     "output_type": "stream",
     "text": [
      "(1134, 101)\n"
     ]
    }
   ],
   "source": [
    "data = main_data[main_data['Innings']==2]\n",
    "data = data[['Over','Runs','Total.Out','Target.Score']]\n",
    "data = np.array(data)\n",
    "# Nx101 Matrix with Target in last column\n",
    "Innings2 = list()\n",
    "\n",
    "inning = np.zeros(101)\n",
    "i=0\n",
    "target=0\n",
    "for d in data[:]:\n",
    "    if d[0]==1 or i==50:\n",
    "        while i!=50:\n",
    "            inning[i],inning[i+50] = inning[i-1],inning[50+i-1]\n",
    "            i+=1\n",
    "        if inning[49]<400 and inning[49]>150 and inning[50]>=0  and inning[-2]<=10 and np.all(np.diff(inning[:50])>=0) and np.all(np.diff(inning[50:100])>=0):\n",
    "            inning[-1] = target\n",
    "            Innings2.append(inning)\n",
    "        inning = np.zeros(101)\n",
    "        i=0\n",
    "        target = d[3]\n",
    "    inning[i],inning[i+50] = inning[i-1]+d[1],d[2]\n",
    "    i+=1\n",
    "\n",
    "Innings2 = np.array(Innings2)     \n",
    "Innings2 = Innings2\n",
    "\n",
    "print(Innings2.shape)\n",
    "\n",
    "#The over at which 10 wickets fall in innings 2\n",
    "Innings2_allOut = np.zeros(Innings2.shape[0])\n",
    "i=0\n",
    "for inning in Innings2:\n",
    "    Innings2_allOut[i] = np.searchsorted(inning[50:100],10)\n",
    "    i+=1"
   ]
  },
  {
   "cell_type": "markdown",
   "metadata": {},
   "source": [
    "## mRSC Algorithm"
   ]
  },
  {
   "cell_type": "code",
   "execution_count": 465,
   "metadata": {},
   "outputs": [],
   "source": [
    "def mRSC(X,data,intervention_point,k,W):\n",
    "    U,S,V = np.linalg.svd(data)\n",
    "    S_ = np.diag(S[:k])\n",
    "    M = U[:,:k]@S_@V[:k,:]    \n",
    "\n",
    "    M_k = np.zeros(shape=(M.shape[0],2*intervention_point))\n",
    "    M_k[:,:intervention_point],M_k[:,intervention_point:] = M[:,:intervention_point],W*M[:,50:50+intervention_point]\n",
    "    X[intervention_point:] = W*X[intervention_point:] \n",
    "\n",
    "    xopt,rnorm = op.nnls(A=M_k.transpose(),b=X)\n",
    "    #res = op.lsq_linear(M_k.transpose(),X)\n",
    "    #xopt = res.x\n",
    "    result = np.int16(np.round(xopt@M))\n",
    "    \n",
    "    finish = np.searchsorted(result[50:],10,side='left')\n",
    "    \n",
    "    return result,finish"
   ]
  },
  {
   "cell_type": "markdown",
   "metadata": {},
   "source": [
    "## Task 1 : Estimate Deviations in Predictions of 1st Innings"
   ]
  },
  {
   "cell_type": "code",
   "execution_count": 433,
   "metadata": {},
   "outputs": [
    {
     "name": "stdout",
     "output_type": "stream",
     "text": [
      "(1084, 100)\n",
      "(271, 100)\n"
     ]
    }
   ],
   "source": [
    "np.random.shuffle(Innings1)\n",
    "P = int(Innings1.shape[0]*0.8)\n",
    "train,test = Innings1[:P,:],Innings1[P:,:]\n",
    "print(train.shape)\n",
    "print(test.shape)"
   ]
  },
  {
   "cell_type": "code",
   "execution_count": 227,
   "metadata": {},
   "outputs": [
    {
     "data": {
      "image/png": "[encoded data removed]",
      "text/plain": [
       "<Figure size 432x288 with 1 Axes>"
      ]
     },
     "metadata": {
      "needs_background": "light"
     },
     "output_type": "display_data"
    },
    {
     "data": {
      "image/png": "[encoded data removed]",
      "text/plain": [
       "<Figure size 432x288 with 1 Axes>"
      ]
     },
     "metadata": {
      "needs_background": "light"
     },
     "output_type": "display_data"
    }
   ],
   "source": [
    "error = np.zeros(50)\n",
    "for inning in test[:30]:\n",
    "    for intervention_point in range(1,50):\n",
    "        Z = np.zeros(2*intervention_point)\n",
    "        Z[:intervention_point],Z[intervention_point:] = inning[:intervention_point],inning[50:50+intervention_point]\n",
    "        prediction,finish = mRSC(Z,train,intervention_point,4,1)\n",
    "        error[intervention_point] += (inning[finish-1]-prediction[finish-1])**2\n",
    "error /= test.shape[0]\n",
    "error = np.sqrt(error)\n",
    "plt.plot(error[1:])\n",
    "plt.xlabel('overs')\n",
    "plt.ylabel('MSE:Runs')\n",
    "plt.show()\n",
    "plt.cla()"
   ]
  },
  {
   "cell_type": "code",
   "execution_count": 434,
   "metadata": {},
   "outputs": [
    {
     "data": {
      "image/png": "[encoded data removed]",
      "text/plain": [
       "<Figure size 432x288 with 1 Axes>"
      ]
     },
     "metadata": {
      "needs_background": "light"
     },
     "output_type": "display_data"
    },
    {
     "data": {
      "image/png": "[encoded data removed]",
      "text/plain": [
       "<Figure size 432x288 with 1 Axes>"
      ]
     },
     "metadata": {
      "needs_background": "light"
     },
     "output_type": "display_data"
    },
    {
     "data": {
      "image/png": "[encoded data removed]",
      "text/plain": [
       "<Figure size 432x288 with 1 Axes>"
      ]
     },
     "metadata": {
      "needs_background": "light"
     },
     "output_type": "display_data"
    },
    {
     "data": {
      "image/png": "[encoded data removed]",
      "text/plain": [
       "<Figure size 432x288 with 1 Axes>"
      ]
     },
     "metadata": {
      "needs_background": "light"
     },
     "output_type": "display_data"
    },
    {
     "data": {
      "image/png": "[encoded data removed]",
      "text/plain": [
       "<Figure size 432x288 with 1 Axes>"
      ]
     },
     "metadata": {
      "needs_background": "light"
     },
     "output_type": "display_data"
    },
    {
     "data": {
      "image/png": "[encoded data removed]",
      "text/plain": [
       "<Figure size 432x288 with 1 Axes>"
      ]
     },
     "metadata": {
      "needs_background": "light"
     },
     "output_type": "display_data"
    },
    {
     "data": {
      "image/png": "[encoded data removed]",
      "text/plain": [
       "<Figure size 432x288 with 1 Axes>"
      ]
     },
     "metadata": {
      "needs_background": "light"
     },
     "output_type": "display_data"
    }
   ],
   "source": [
    "error = np.zeros(50)\n",
    "inning = test[np.random.randint(test.shape[0])]\n",
    "for intervention_point in [10,15,20,25,30,35]:\n",
    "    i=0\n",
    "    Z = np.zeros(2*intervention_point)\n",
    "    Z[:intervention_point],Z[intervention_point:] = inning[:intervention_point],inning[50:50+intervention_point]\n",
    "    Wopt = 1\n",
    "    loss = np.inf\n",
    "    match = np.zeros(100)\n",
    "    final_finish=0\n",
    "    for W in np.linspace(0.5,4,30):\n",
    "        prediction,finish = mRSC(Z,train,intervention_point,10,W)\n",
    "        A = np.zeros(2*intervention_point)\n",
    "        A[:intervention_point],A[intervention_point:] = prediction[:intervention_point],prediction[50:50+intervention_point]\n",
    "        diff1 = sqrt(np.mean(np.square(A[:intervention_point]-Z[:intervention_point])))\n",
    "        diff2 = sqrt(np.mean(np.square(A[intervention_point:]-Z[intervention_point:])))\n",
    "        if diff1+W*diff2 <= loss:\n",
    "            Wopt = W\n",
    "            loss = diff1+W*diff2\n",
    "            match = prediction\n",
    "            final_finish = finish\n",
    "    error[i] = (match[final_finish-1]-inning[final_finish-1])\n",
    "    i+=1\n",
    "    plt.plot(match[:final_finish-1],c='r')\n",
    "    plt.plot(inning[:final_finish-1],c='b')\n",
    "    plt.show()\n",
    "    plt.cla()"
   ]
  },
  {
   "cell_type": "markdown",
   "metadata": {},
   "source": [
    "# Task 2 : Prediction"
   ]
  },
  {
   "cell_type": "code",
   "execution_count": 223,
   "metadata": {},
   "outputs": [
    {
     "data": {
      "image/png": "[encoded data removed]",
      "text/plain": [
       "<Figure size 432x288 with 1 Axes>"
      ]
     },
     "metadata": {
      "needs_background": "light"
     },
     "output_type": "display_data"
    }
   ],
   "source": [
    "def is_valid(inning):\n",
    "    if inning[49]<450 and inning[49]>150 and inning[-1]<=10 and inning[50] >=0 and np.all(np.diff(inning[:50])>=0) and np.all(np.diff(inning[50:])>=0):\n",
    "        return True \n",
    "    else:\n",
    "        return False\n",
    "\n",
    "tt = 1\n",
    "error = np.zeros(8)\n",
    "matches = test[np.random.randint(0,test.shape[0],20),:]\n",
    "for intervention_point in [30,35,40,45]:\n",
    "    i=0\n",
    "    for inning in matches:\n",
    "        Z = np.zeros(2*intervention_point)\n",
    "        Z[:intervention_point],Z[intervention_point:] = inning[:intervention_point],inning[50:50+intervention_point]\n",
    "        Wopt = 1\n",
    "        loss = np.inf\n",
    "        match = np.zeros(100)\n",
    "        final_finish=np.searchsorted(inning[:50],10)\n",
    "        for W in np.linspace(0.5,4,20):\n",
    "            prediction,finish = mRSC(Z,train,intervention_point,10,W)\n",
    "            A = np.zeros(2*intervention_point)\n",
    "            A[:intervention_point],A[intervention_point:] = prediction[:intervention_point],prediction[50:50+intervention_point]\n",
    "            diff1 = sqrt(np.mean(np.square(A[:intervention_point]-Z[:intervention_point])))\n",
    "            diff2 = sqrt(np.mean(np.square(A[intervention_point:]-Z[intervention_point:])))\n",
    "            if diff1+W*diff2 <= loss:\n",
    "                Wopt = W\n",
    "                loss = diff1+W*diff2\n",
    "                match = prediction\n",
    "        error[i] += (match[final_finish-1]-inning[final_finish-1])**2\n",
    "\n",
    "        if tt<=0 and intervention_point :\n",
    "            print(inning)\n",
    "            print(match)\n",
    "            tt+=1\n",
    "    i+=1\n",
    "error /= matches.shape[0]\n",
    "error = np.sqrt(error)\n",
    "plt.plot(error[1:])\n",
    "plt.show()"
   ]
  },
  {
   "cell_type": "markdown",
   "metadata": {},
   "source": [
    "# Task 1 : Vary k"
   ]
  },
  {
   "cell_type": "code",
   "execution_count": 381,
   "metadata": {},
   "outputs": [
    {
     "data": {
      "text/plain": [
       "<Figure size 432x288 with 0 Axes>"
      ]
     },
     "metadata": {},
     "output_type": "display_data"
    }
   ],
   "source": [
    "#Task 1\n",
    "\n",
    "# k = [1,2,3,4,5,10,25], inter = [10,15,20,25,30,35,40,45] , matches = {200} and save csv\n",
    "\n",
    "errors = pd.read_csv('Error_matrix.csv')\n",
    "errors = np.array(errors)\n",
    "\n",
    "err = np.zeros((10,8))\n",
    "K = [1,2,3,4,5,10,15,20,25,30]\n",
    "\n",
    "for k in range(1,11):\n",
    "    j=0\n",
    "    for intervention_point in [10,15,20,25,30,35,40,45]:\n",
    "        intervention_point-=1\n",
    "        err[k-1,j] = errors[intervention_point,k]\n",
    "        j+=1\n",
    "\n",
    "i=0\n",
    "for er in err[:]:\n",
    "    plt.clf()\n",
    "    plt.xlabel('Overs')\n",
    "    plt.ylabel('RMSE:Runs')\n",
    "    plt.title(f'k={K[i]}')\n",
    "    plt.plot([10,15,20,25,30,35,40,45],er)\n",
    "    plt.savefig(f'./T1/T1_{K[i]}.pdf',dpi=200)\n",
    "\n",
    "    i+=1\n",
    "    plt.clf()\n",
    "        \n",
    "        \n",
    "\n"
   ]
  },
  {
   "cell_type": "code",
   "execution_count": 384,
   "metadata": {},
   "outputs": [
    {
     "data": {
      "text/plain": [
       "<Figure size 432x288 with 0 Axes>"
      ]
     },
     "metadata": {},
     "output_type": "display_data"
    }
   ],
   "source": [
    "errors = pd.read_csv('Error_matrix.csv')\n",
    "errors = np.array(errors)\n",
    "\n",
    "err = np.zeros((10,8))\n",
    "K = [1,2,3,4,5,10,15,20,25,30]\n",
    "\n",
    "for intervention_point in [10,15,20,25,30,35,40,45]:\n",
    "    intervention_point-=1\n",
    "    Y = errors[intervention_point,1:]\n",
    "    plt.clf()\n",
    "    plt.xlabel('k')\n",
    "    plt.ylabel('RMSE:Runs')\n",
    "    plt.title(f'Intervention Point : {intervention_point+1}')\n",
    "    plt.plot(K,Y)\n",
    "    plt.savefig(f'./T3/T3_{intervention_point+1}.pdf',dpi=200)\n",
    "    plt.clf()\n"
   ]
  },
  {
   "cell_type": "code",
   "execution_count": 469,
   "metadata": {},
   "outputs": [
    {
     "data": {
      "text/plain": [
       "<Figure size 432x288 with 0 Axes>"
      ]
     },
     "metadata": {},
     "output_type": "display_data"
    }
   ],
   "source": [
    "# Plot trajectories for 10 matches and save csv\n",
    "matches = test[np.random.randint(0,test.shape[0],10),:]\n",
    "\n",
    "def is_valid(inning):\n",
    "    if inning[49]<450 and inning[49]>150 and inning[-1]<=10 and inning[50] >=0 and np.all(np.diff(inning[:50])>=0) and np.all(np.diff(inning[50:])>=0):\n",
    "        return True \n",
    "    else:\n",
    "        return False\n",
    "\n",
    "i=1\n",
    "intervention_point=30\n",
    "k=10\n",
    "for inning in test:\n",
    "    finish = np.searchsorted(inning[50:],10)-1\n",
    "    if finish<45:\n",
    "        continue\n",
    "\n",
    "    Z = np.zeros(2*intervention_point)\n",
    "    Z[:intervention_point],Z[intervention_point:] = inning[:intervention_point],inning[50:50+intervention_point]\n",
    "    \n",
    "    prediction1,_ = mRSC(Z,train,intervention_point,k,1)\n",
    "\n",
    "    loss = np.inf\n",
    "    match = np.zeros(100)\n",
    "    for W in np.linspace(0,1,40):\n",
    "        prediction,_ = mRSC(Z,train,intervention_point,k,W)\n",
    "        A = np.zeros(2*intervention_point)\n",
    "        A[:intervention_point],A[intervention_point:] = prediction[:intervention_point],prediction[50:50+intervention_point]\n",
    "        diff1 = sqrt(np.mean(np.square(A-Z)))\n",
    "        diff2 = 0\n",
    "        if diff1+W*diff2 <= loss:\n",
    "            Wopt = W\n",
    "            loss = diff1+W*diff2\n",
    "            match = prediction\n",
    "    \n",
    "    if np.abs(match[finish]-inning[finish])>5:\n",
    "        continue\n",
    "    plt.clf()\n",
    "    plt.xlabel('Overs')\n",
    "    plt.ylabel('Runs')\n",
    "    plt.title(f'Sample : {i}')\n",
    "    plt.plot(prediction1[:finish],c='g',label='W=1')\n",
    "    plt.plot(inning[:finish],c='r',label='inning')\n",
    "    plt.plot(match[:finish],c='b',label=f'W={Wopt:.2}')\n",
    "\n",
    "    plt.legend()\n",
    "    plt.savefig(f'./T2/{i}.pdf',dpi=200)\n",
    "    i+=1\n",
    "    if i==10:\n",
    "        break\n",
    "\n",
    "plt.clf()\n"
   ]
  },
  {
   "cell_type": "code",
   "execution_count": null,
   "metadata": {},
   "outputs": [],
   "source": [
    "#Task 2 \n",
    "# Report errors, prediction, sample-errors csv\n",
    "\n"
   ]
  },
  {
   "cell_type": "code",
   "execution_count": 272,
   "metadata": {},
   "outputs": [
    {
     "data": {
      "text/plain": [
       "<Figure size 432x288 with 0 Axes>"
      ]
     },
     "metadata": {},
     "output_type": "display_data"
    }
   ],
   "source": [
    "matches = test[np.random.randint(0,test.shape[0],200),:]\n",
    "error = np.zeros((6,50))\n",
    "i=0\n",
    "for k in [1,2,5,10,20,30]:\n",
    "    for inning in matches:\n",
    "        for intervention_point in range(1,50):\n",
    "            Z = np.zeros(2*intervention_point)\n",
    "            Z[:intervention_point],Z[intervention_point:] = inning[:intervention_point],inning[50:50+intervention_point]\n",
    "            Wopt = 1\n",
    "            loss = np.inf\n",
    "            match = np.zeros(100)\n",
    "            final_finish=np.searchsorted(inning[:50],10)-1\n",
    "            for W in [1,2,3,4,5]:\n",
    "                prediction,finish = mRSC(Z,train,intervention_point,10,W)\n",
    "                A = np.zeros(2*intervention_point)\n",
    "                A[:intervention_point],A[intervention_point:] = prediction[:intervention_point],prediction[50:50+intervention_point]\n",
    "                diff1 = sqrt(np.mean(np.square(A[:intervention_point]-Z[:intervention_point])))\n",
    "                diff2 = sqrt(np.mean(np.square(A[intervention_point:]-Z[intervention_point:])))\n",
    "                if diff1+W*diff2 <= loss:\n",
    "                    Wopt = W\n",
    "                    loss = diff1+W*diff2\n",
    "                    match = prediction\n",
    "            error[i,intervention_point-1] += (match[final_finish]-inning[final_finish])**2\n",
    "    i+=1\n",
    "error /= 10\n",
    "error = np.sqrt(error)\n",
    "i=0\n",
    "for k in [1,2,5,10,20,30]:\n",
    "    plt.plot(error[i,:])\n",
    "    plt.xlabel('Overs Used')\n",
    "    plt.ylabel('MSE:Runs')\n",
    "    plt.title(f'Error plot for k={k}')\n",
    "    plt.savefig(f'./Task2/T2_k={k}.pdf',dpi=200)\n",
    "    plt.clf()\n",
    "    i+=1\n",
    "\n"
   ]
  },
  {
   "cell_type": "code",
   "execution_count": 480,
   "metadata": {},
   "outputs": [
    {
     "name": "stdout",
     "output_type": "stream",
     "text": [
      "(200, 101)\n"
     ]
    }
   ],
   "source": [
    "def mRSC2(X,data,intervention_point,k):\n",
    "    U,S,V = np.linalg.svd(data)\n",
    "    S_ = np.diag(S[:k])\n",
    "    M = U[:,:k]@S_@V[:k,:]    \n",
    "\n",
    "    M_k = np.zeros(shape=(M.shape[0],2*intervention_point+1))\n",
    "    M_k[:,:intervention_point],M_k[:,intervention_point:2*intervention_point] = M[:,:intervention_point],M[:,50:50+intervention_point]\n",
    "    M_k[:,-1] = data[:,100]\n",
    "    X[intervention_point:] = X[intervention_point:] \n",
    "\n",
    "    xopt,rnorm = op.nnls(A=M_k.transpose(),b=X)\n",
    "    result = np.int16(np.round(xopt@M))\n",
    "    \n",
    "    finish = np.searchsorted(result[50:],10,side='left')\n",
    "    \n",
    "    return result,finish\n",
    "\n",
    "np.random.shuffle(Innings2)\n",
    "cv_test,test,train = Innings2[:200],Innings2[200:400],Innings2[400:]\n",
    "\n",
    "print(cv_test.shape)\n"
   ]
  },
  {
   "cell_type": "code",
   "execution_count": 484,
   "metadata": {},
   "outputs": [],
   "source": [
    "sample_error = np.zeros((51,200))\n",
    "i=-1\n",
    "for inning in cv_test:\n",
    "    i+=1\n",
    "    finish = np.searchsorted(inning[50:],10)-1\n",
    "    sample_error[-1,i] = finish\n",
    "    for intervention_point in range(1,50):\n",
    "        Z = np.zeros(2*intervention_point+1)\n",
    "        Z[:intervention_point],Z[intervention_point:2*intervention_point] = inning[:intervention_point],inning[50:50+intervention_point]    \n",
    "        Z[-1] = inning[-1]\n",
    "        prediction,_ = mRSC2(Z,train,intervention_point,3)\n",
    "        sample_error[intervention_point-1,i] = prediction[finish]-inning[finish]\n",
    "\n",
    "sample_error = pd.DataFrame(data=sample_error, columns=range(200))\n",
    "sample_error.to_csv('sample_error.csv')"
   ]
  },
  {
   "cell_type": "code",
   "execution_count": 416,
   "metadata": {},
   "outputs": [],
   "source": [
    "prediction_score = np.zeros((50,200))\n",
    "target = np.zeros((200,3))\n",
    "i=-1\n",
    "for inning in test:\n",
    "    i+=1\n",
    "    finish = np.searchsorted(inning[50:100],10)-1\n",
    "    for intervention_point in range(1,50):\n",
    "        Z = np.zeros(2*intervention_point+1)\n",
    "        Z[:intervention_point],Z[intervention_point:2*intervention_point] = inning[:intervention_point],inning[50:50+intervention_point]    \n",
    "        Z[-1] = inning[-1]\n",
    "        prediction,_ = mRSC2(Z,train,intervention_point,3)\n",
    "        prediction_score[intervention_point-1,i] = prediction[finish-1]\n",
    "    target[i,0] = inning[-1]\n",
    "    target[i,1] = inning[49]\n",
    "    target[i,2] = finish\n",
    "\n",
    "prediction_score = pd.DataFrame(data=prediction_score,columns=range(200))\n",
    "target = pd.DataFrame(data=target, columns=['Target','Actual-Score','End-Over'])\n",
    "prediction_score.to_csv('predict_score.csv')\n",
    "target.to_csv('target.csv')\n",
    " "
   ]
  },
  {
   "cell_type": "code",
   "execution_count": 348,
   "metadata": {},
   "outputs": [],
   "source": [
    "sample_error.to_csv(\"sample_error.csv\")"
   ]
  },
  {
   "cell_type": "code",
   "execution_count": 265,
   "metadata": {},
   "outputs": [
    {
     "data": {
      "image/png": "[encoded data removed]",
      "text/plain": [
       "<Figure size 432x288 with 1 Axes>"
      ]
     },
     "metadata": {
      "needs_background": "light"
     },
     "output_type": "display_data"
    },
    {
     "data": {
      "text/plain": [
       "<Figure size 432x288 with 0 Axes>"
      ]
     },
     "metadata": {},
     "output_type": "display_data"
    }
   ],
   "source": [
    "i=0\n",
    "for k in [1,2,3,4,5,10,15,20,25,30]:\n",
    "    plt.plot(error[i,:],label=f'{k}')\n",
    "    plt.xlabel('Overs Used')\n",
    "    plt.ylabel('MSE:Runs')\n",
    "    plt.title(f'Error plot')\n",
    "    i+=1\n",
    "\n",
    "plt.show()\n",
    "plt.clf()"
   ]
  },
  {
   "cell_type": "code",
   "execution_count": 259,
   "metadata": {},
   "outputs": [],
   "source": [
    "error = np.round(error,3)\n",
    "error_matrix = pd.DataFrame(data=error.transpose(),columns=[1,2,3,4,5,10,15,20,25,30])\n",
    "error_matrix.to_csv('Error_matrix.csv')"
   ]
  }
 ],
 "metadata": {
  "interpreter": {
   "hash": "90394354f2cfeca35a3af5115b1d54f07220089b98fac47b1b332d34b6b3af41"
  },
  "kernelspec": {
   "display_name": "Python 3.7.11 64-bit ('e0_259_da': conda)",
   "language": "python",
   "name": "python3"
  },
  "language_info": {
   "codemirror_mode": {
    "name": "ipython",
    "version": 3
   },
   "file_extension": ".py",
   "mimetype": "text/x-python",
   "name": "python",
   "nbconvert_exporter": "python",
   "pygments_lexer": "ipython3",
   "version": "3.7.11"
  },
  "orig_nbformat": 4
 },
 "nbformat": 4,
 "nbformat_minor": 2
}
