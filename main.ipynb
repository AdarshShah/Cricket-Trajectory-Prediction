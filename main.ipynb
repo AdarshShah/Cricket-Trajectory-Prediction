{
 "cells": [
  {
   "cell_type": "code",
   "execution_count": 117,
   "metadata": {},
   "outputs": [],
   "source": [
    "import numpy as np\n",
    "import pandas as pd\n",
    "from math import sqrt\n",
    "from scipy import optimize as op\n",
    "from matplotlib import pyplot as plt"
   ]
  },
  {
   "cell_type": "markdown",
   "metadata": {},
   "source": [
    "# Data Preprocessing"
   ]
  },
  {
   "cell_type": "code",
   "execution_count": 118,
   "metadata": {},
   "outputs": [
    {
     "name": "stdout",
     "output_type": "stream",
     "text": [
      "(1274, 100)\n"
     ]
    }
   ],
   "source": [
    "main_data = pd.read_csv('./04_cricket_1999to2011.csv')\n",
    "\n",
    "data = main_data[main_data['Innings']==1]\n",
    "data = data[['Over','Runs','Total.Out']]\n",
    "# Nx50 Matrix holding history data \n",
    "Innings1 = list()\n",
    "\n",
    "inning = np.zeros(100)\n",
    "i=0\n",
    "for d in data.itertuples():\n",
    "    if d[1]==1 or i==50:\n",
    "        while i!=50:\n",
    "            inning[i],inning[i+50] = inning[i-1],inning[50+i-1]\n",
    "            i+=1\n",
    "        if inning[49]<400 and inning[49]>150 and inning[50]>=0  and inning[-1]<=10 and np.all(np.diff(inning[:50])>=0) and np.all(np.diff(inning[50:])>=0):\n",
    "            Innings1.append(inning)\n",
    "        inning = np.zeros(100)\n",
    "        i=0\n",
    "    inning[i],inning[i+50] = inning[i-1]+d[2],d[3]\n",
    "    i+=1\n",
    "\n",
    "Innings1 = np.array(Innings1)     \n",
    "Innings1 = Innings1[1:,:]\n",
    "print(Innings1.shape)\n"
   ]
  },
  {
   "cell_type": "markdown",
   "metadata": {},
   "source": [
    "## mRSC Algorithm"
   ]
  },
  {
   "cell_type": "code",
   "execution_count": 151,
   "metadata": {},
   "outputs": [],
   "source": [
    "def mRSC(X,data,intervention_point,k,W):\n",
    "    U,S,V = np.linalg.svd(data)\n",
    "    S_ = np.diag(S[:k])\n",
    "    M = U[:,:k]@S_@V[:k,:]    \n",
    "\n",
    "    M_k = np.zeros(shape=(M.shape[0],2*intervention_point))\n",
    "    M_k[:,:intervention_point],M_k[:,intervention_point:] = M[:,:intervention_point],W*M[:,50:50+intervention_point]\n",
    "    X[intervention_point:] = W*X[intervention_point:] \n",
    "    \n",
    "    opt_result = op.least_squares(lambda v : X-v@M_k,np.zeros(M_k.shape[0]))\n",
    "    xopt = opt_result.x\n",
    "    result = np.int16(np.round(xopt@M))\n",
    "    return result,xopt"
   ]
  },
  {
   "cell_type": "markdown",
   "metadata": {},
   "source": [
    "## Task 1 : Estimate Deviations in Predictions of 1st Innings"
   ]
  },
  {
   "cell_type": "code",
   "execution_count": 123,
   "metadata": {},
   "outputs": [],
   "source": [
    "np.random.shuffle(Innings1)\n",
    "P = int(Innings1.shape[0]*0.8)\n",
    "train,test = Innings1[:P,:],Innings1[P:,:]"
   ]
  },
  {
   "cell_type": "code",
   "execution_count": null,
   "metadata": {},
   "outputs": [],
   "source": [
    "error = np.zeros(50)\n",
    "for inning in test[np.random.randint(0,test.shape[0],50),:]:\n",
    "    for intervention_point in range(50):\n",
    "        Z = np.zeros(2*intervention_point)\n",
    "        Z[:intervention_point],Z[intervention_point:] = inning[:intervention_point],inning[50:50+intervention_point]\n",
    "        prediction = mRSC(Z,train,intervention_point,4)\n",
    "        error[intervention_point] += abs(inning[49]-prediction[49])\n",
    "error /= 50\n",
    "plt.plot(error)"
   ]
  },
  {
   "cell_type": "markdown",
   "metadata": {},
   "source": [
    "# Task 2 : Prediction"
   ]
  },
  {
   "cell_type": "code",
   "execution_count": 154,
   "metadata": {},
   "outputs": [
    {
     "name": "stdout",
     "output_type": "stream",
     "text": [
      "inf\n",
      "-40813905.4556337\n",
      "[0. 0. 0. 0. 0. 0. 0. 0. 0. 0. 0. 0. 0. 0. 0. 0. 0. 0. 0. 0. 0. 0. 0. 0.\n",
      " 0. 0. 0. 0. 0. 0. 0. 0. 0. 0. 0. 0. 0. 0. 0. 0. 0. 0. 0. 0. 0. 0. 0. 0.\n",
      " 0. 0. 0. 0. 0. 0. 0. 0. 0. 0. 0. 0. 0. 0. 0. 0. 0. 0. 0. 0. 0. 0. 0. 0.\n",
      " 0. 0. 0. 0. 0. 0. 0. 0. 0. 0. 0. 0. 0. 0. 0. 0. 0. 0. 0. 0. 0. 0. 0. 0.\n",
      " 0. 0. 0. 0.]\n",
      "[  2.  10.  16.  27.  37.  45.  45.  51.  56.  64.  73.  77.  83.  85.\n",
      "  96.  98. 103. 104. 106. 107. 108. 110. 116. 119. 122. 124. 129. 132.\n",
      " 135. 139. 144. 152. 152. 153. 160. 164. 164. 168. 169. 169. 170. 174.\n",
      " 179. 182. 188. 191. 194. 195. 201. 204.   0.   0.   0.   0.   0.   0.\n",
      "   1.   1.   1.   2.   2.   2.   2.   2.   3.   3.   3.   3.   4.   4.\n",
      "   4.   4.   4.   4.   4.   4.   4.   4.   4.   4.   4.   5.   6.   6.\n",
      "   6.   6.   7.   7.   8.   8.   8.   8.   8.   8.   8.   8.   9.   9.\n",
      "   9.   9.]\n",
      "1\n",
      "inf\n",
      "-58634810.62475694\n",
      "[0. 0. 0. 0. 0. 0. 0. 0. 0. 0. 0. 0. 0. 0. 0. 0. 0. 0. 0. 0. 0. 0. 0. 0.\n",
      " 0. 0. 0. 0. 0. 0. 0. 0. 0. 0. 0. 0. 0. 0. 0. 0. 0. 0. 0. 0. 0. 0. 0. 0.\n",
      " 0. 0. 0. 0. 0. 0. 0. 0. 0. 0. 0. 0. 0. 0. 0. 0. 0. 0. 0. 0. 0. 0. 0. 0.\n",
      " 0. 0. 0. 0. 0. 0. 0. 0. 0. 0. 0. 0. 0. 0. 0. 0. 0. 0. 0. 0. 0. 0. 0. 0.\n",
      " 0. 0. 0. 0.]\n",
      "[  4.   7.  13.  22.  28.  28.  28.  30.  30.  33.  37.  37.  38.  39.\n",
      "  41.  45.  48.  51.  58.  59.  59.  63.  65.  69.  74.  78.  82.  88.\n",
      "  90.  97. 103. 104. 110. 112. 113. 114. 119. 122. 129. 132. 136. 139.\n",
      " 142. 146. 147. 152. 152. 152. 152. 152.   0.   0.   0.   0.   0.   0.\n",
      "   1.   1.   1.   1.   1.   1.   1.   1.   1.   1.   1.   1.   1.   1.\n",
      "   1.   1.   1.   1.   1.   2.   2.   3.   3.   3.   3.   3.   5.   5.\n",
      "   5.   5.   5.   5.   5.   5.   5.   5.   6.   7.   8.  10.  10.  10.\n",
      "  10.  10.]\n",
      "1\n",
      "inf\n",
      "-116059460.74370122\n",
      "[0. 0. 0. 0. 0. 0. 0. 0. 0. 0. 0. 0. 0. 0. 0. 0. 0. 0. 0. 0. 0. 0. 0. 0.\n",
      " 0. 0. 0. 0. 0. 0. 0. 0. 0. 0. 0. 0. 0. 0. 0. 0. 0. 0. 0. 0. 0. 0. 0. 0.\n",
      " 0. 0. 0. 0. 0. 0. 0. 0. 0. 0. 0. 0. 0. 0. 0. 0. 0. 0. 0. 0. 0. 0. 0. 0.\n",
      " 0. 0. 0. 0. 0. 0. 0. 0. 0. 0. 0. 0. 0. 0. 0. 0. 0. 0. 0. 0. 0. 0. 0. 0.\n",
      " 0. 0. 0. 0.]\n",
      "[  0.   7.  17.  17.  25.  33.  40.  50.  59.  72.  79.  80.  84.  89.\n",
      "  96.  99. 104. 114. 116. 120. 126. 132. 141. 148. 153. 159. 161. 171.\n",
      " 176. 183. 187. 189. 200. 202. 204. 206. 213. 220. 224. 230. 244. 260.\n",
      " 273. 285. 303. 313. 320. 334. 346. 350.   1.   1.   1.   1.   1.   1.\n",
      "   1.   1.   1.   1.   1.   2.   2.   2.   2.   2.   2.   2.   2.   2.\n",
      "   2.   2.   2.   2.   2.   2.   2.   2.   2.   2.   2.   2.   2.   2.\n",
      "   3.   3.   3.   3.   4.   4.   4.   4.   4.   4.   4.   4.   4.   4.\n",
      "   4.   4.]\n",
      "1\n",
      "inf\n",
      "-252175056.52471992\n",
      "[0. 0. 0. 0. 0. 0. 0. 0. 0. 0. 0. 0. 0. 0. 0. 0. 0. 0. 0. 0. 0. 0. 0. 0.\n",
      " 0. 0. 0. 0. 0. 0. 0. 0. 0. 0. 0. 0. 0. 0. 0. 0. 0. 0. 0. 0. 0. 0. 0. 0.\n",
      " 0. 0. 0. 0. 0. 0. 0. 0. 0. 0. 0. 0. 0. 0. 0. 0. 0. 0. 0. 0. 0. 0. 0. 0.\n",
      " 0. 0. 0. 0. 0. 0. 0. 0. 0. 0. 0. 0. 0. 0. 0. 0. 0. 0. 0. 0. 0. 0. 0. 0.\n",
      " 0. 0. 0. 0.]\n",
      "[  3.   8.   9.  21.  27.  41.  43.  58.  59.  66.  72.  80.  84.  89.\n",
      " 101. 108. 112. 115. 121. 127. 135. 139. 144. 147. 150. 152. 156. 166.\n",
      " 168. 175. 177. 178. 182. 187. 190. 197. 202. 212. 218. 218. 218. 218.\n",
      " 218. 218. 218. 218. 218. 218. 218. 218.   0.   0.   0.   0.   0.   0.\n",
      "   0.   0.   0.   0.   1.   1.   1.   1.   1.   1.   2.   2.   2.   2.\n",
      "   2.   2.   2.   3.   3.   4.   5.   5.   6.   6.   6.   6.   6.   6.\n",
      "   6.   7.   7.   7.   7.   7.   7.   7.   7.   7.   7.   7.   7.   7.\n",
      "   7.   7.]\n",
      "1\n",
      "2.0890840035098908\n",
      "-55087074.96016448\n",
      "[  7  14  20  26  30  35  40  48  53  59  65  70  74  80  84  87  92  95\n",
      "  99 104 109 115 120 127 133 137 144 150 157 167 176 186 198 211 228 246\n",
      " 264 281 296 308 318 322 326 329 332 341 355 378 403 431   0   0   0   0\n",
      "   0   0   0   0   1   1   1   1   1   1   2   2   2   2   2   2   2   2\n",
      "   2   2   2   2   2   2   2   2   2   2   2   2   2   2   2   2   2   3\n",
      "   3   4   4   5   5   5   5   5   6   7]\n",
      "[  5.  15.  22.  23.  32.  34.  39.  47.  54.  58.  66.  71.  74.  78.\n",
      "  84.  90.  90.  95.  99. 107. 107. 116. 118. 125. 134. 139. 143. 148.\n",
      " 160. 166. 169. 172. 183. 194. 200. 202. 206. 212. 214. 219. 225. 232.\n",
      " 237. 246. 253. 263. 270. 280. 302. 318.   0.   0.   0.   0.   1.   1.\n",
      "   1.   1.   2.   2.   2.   2.   2.   2.   2.   2.   2.   2.   2.   2.\n",
      "   2.   2.   2.   2.   2.   2.   2.   2.   2.   2.   2.   2.   2.   3.\n",
      "   3.   3.   3.   3.   4.   4.   5.   5.   5.   6.   6.   6.   7.   7.\n",
      "   7.   7.]\n",
      "0.5\n"
     ]
    }
   ],
   "source": [
    "def is_valid(inning):\n",
    "    if inning[49]<450 and inning[49]>150 and inning[-1]<=10 and inning[50] >=0 and np.all(np.diff(inning[:50])>=0) and np.all(np.diff(inning[50:])>=0):\n",
    "        return True \n",
    "    else:\n",
    "        return False\n",
    "\n",
    "error = np.zeros(30)\n",
    "i=0\n",
    "matches = test[np.random.randint(0,test.shape[0],5),:]\n",
    "for inning in matches:\n",
    "    intervention_point = 30\n",
    "    Z = np.zeros(2*intervention_point)\n",
    "    Z[:intervention_point],Z[intervention_point:] = inning[:intervention_point],inning[50:50+intervention_point]\n",
    "    Wopt = 1\n",
    "    loss = np.inf\n",
    "    match = np.zeros(100)\n",
    "    for W in np.linspace(0.5,5,25):\n",
    "        prediction,xopt = mRSC(Z,train,intervention_point,10,W)\n",
    "        A = np.zeros(2*intervention_point)\n",
    "        A[:intervention_point],A[intervention_point:] = prediction[:intervention_point],prediction[50:50+intervention_point]\n",
    "        diff1 = sqrt(np.mean(np.square(A[:intervention_point]-Z[:intervention_point])))\n",
    "        diff2 = sqrt(np.mean(np.square(A[intervention_point:]-Z[intervention_point:])))\n",
    "        if diff1+W*diff2 <= loss and is_valid(prediction):\n",
    "            Wopt = W\n",
    "            loss = diff1+W*diff2\n",
    "            match = prediction\n",
    "    print(loss)\n",
    "    print(np.min(xopt))\n",
    "    print(match)\n",
    "    print(inning)\n",
    "    print(Wopt)\n",
    "    #error[i] += abs(prediction[49]-inning[49])\n",
    "    #error[i]/=30\n",
    "    #print(f'W:{W:.3f} error:{error[i]:.3f}')\n",
    "    #i+=1\n",
    "#print(error)\n",
    "#er,bin_centers = np.histogram(error,bins=50)\n",
    "# plt.cla()\n",
    "# plt.scatter(bin_centers[1:],er)\n",
    "# plt.show()"
   ]
  }
 ],
 "metadata": {
  "interpreter": {
   "hash": "90394354f2cfeca35a3af5115b1d54f07220089b98fac47b1b332d34b6b3af41"
  },
  "kernelspec": {
   "display_name": "Python 3.7.11 64-bit ('e0_259_da': conda)",
   "language": "python",
   "name": "python3"
  },
  "language_info": {
   "codemirror_mode": {
    "name": "ipython",
    "version": 3
   },
   "file_extension": ".py",
   "mimetype": "text/x-python",
   "name": "python",
   "nbconvert_exporter": "python",
   "pygments_lexer": "ipython3",
   "version": "3.7.11"
  },
  "orig_nbformat": 4
 },
 "nbformat": 4,
 "nbformat_minor": 2
}
