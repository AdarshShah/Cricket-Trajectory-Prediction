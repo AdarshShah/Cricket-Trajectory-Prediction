{
 "cells": [
  {
   "cell_type": "code",
   "execution_count": null,
   "metadata": {},
   "outputs": [],
   "source": [
    "import numpy as np\n",
    "import pandas as pd\n",
    "from matplotlib import pyplot\n",
    "from math import exp,sqrt\n",
    "from scipy import optimize as op"
   ]
  },
  {
   "cell_type": "markdown",
   "metadata": {},
   "source": [
    "# Data Preprocessing"
   ]
  },
  {
   "cell_type": "code",
   "execution_count": null,
   "metadata": {},
   "outputs": [],
   "source": [
    "data = pd.read_csv('./data/04_cricket_1999to2011.csv')\n",
    "data = data[data['Innings']==1]\n",
    "for i in range(len(data)):\n",
    "    if data.iloc[i]['Over']==1:\n",
    "        data.iloc[i]['Total.Runs'] = data.iloc[i]['Runs']\n",
    "    else:\n",
    "        data.iloc[i]['Total.Runs'] = data.iloc[i]['Runs'] + data.iloc[i-1]['Total.Runs']\n",
    "country_data = data.filter(items=['Over','Innings.Total.Runs','Total.Runs','Wickets.in.Hand'])"
   ]
  }
 ],
 "metadata": {
  "language_info": {
   "name": "python"
  },
  "orig_nbformat": 4
 },
 "nbformat": 4,
 "nbformat_minor": 2
}
