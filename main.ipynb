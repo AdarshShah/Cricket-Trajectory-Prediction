{
 "cells": [
  {
   "cell_type": "code",
   "execution_count": 157,
   "metadata": {},
   "outputs": [],
   "source": [
    "import numpy as np\n",
    "import pandas as pd\n",
    "from math import sqrt\n",
    "from scipy import optimize as op"
   ]
  },
  {
   "cell_type": "markdown",
   "metadata": {},
   "source": [
    "# Data Preprocessing"
   ]
  },
  {
   "cell_type": "code",
   "execution_count": 158,
   "metadata": {},
   "outputs": [],
   "source": [
    "main_data = pd.read_csv('./04_cricket_1999to2011.csv')\n",
    "\n",
    "data = main_data[main_data['Innings']==1]\n",
    "data = data[['Over','Runs','Total.Out']]\n",
    "# Nx50 Matrix holding history data \n",
    "Innings1 = list()\n",
    "\n",
    "\n",
    "inning = np.zeros(100)\n",
    "i=0\n",
    "for d in data.itertuples():\n",
    "    if d[1]==1 or i==50:\n",
    "        while i!=50:\n",
    "            inning[i],inning[i+50] = inning[i-1],inning[50+i-1]\n",
    "            i+=1\n",
    "        Innings1.append(inning)\n",
    "        inning = np.zeros(100)\n",
    "        i=0\n",
    "    inning[i],inning[i+50] = inning[i-1]+d[2],d[3]\n",
    "    i+=1\n",
    "\n",
    "Innings1 = np.array(Innings1)     \n",
    "Innings1 = Innings1[1:,:]\n"
   ]
  },
  {
   "cell_type": "markdown",
   "metadata": {},
   "source": [
    "## mRSC Algorithm"
   ]
  },
  {
   "cell_type": "code",
   "execution_count": 159,
   "metadata": {},
   "outputs": [],
   "source": [
    "def mRSC(X,data,intervention_point,k):\n",
    "\n",
    "    U,S,V = np.linalg.svd(data)\n",
    "    S_ = np.diag(S[:k])\n",
    "    M = U[:,:k]@S_@V[:k,:]    \n",
    "\n",
    "    M_k = np.zeros(shape=(M.shape[0],2*intervention_point))\n",
    "    M_k[:,:intervention_point],M_k[:,intervention_point:] = M[:,:intervention_point],M[:,50:50+intervention_point] \n",
    "\n",
    "    opt_result = op.least_squares(lambda v : X-v@M_k,np.zeros(M_k.shape[0]))\n",
    "    xopt = opt_result.x\n",
    "    result = np.int16(np.round(xopt@M))\n",
    "    return result"
   ]
  },
  {
   "cell_type": "markdown",
   "metadata": {},
   "source": [
    "## Task 1 : Estimate Deviations in Predictions of 1st Innings"
   ]
  },
  {
   "cell_type": "code",
   "execution_count": 160,
   "metadata": {},
   "outputs": [],
   "source": [
    "np.random.shuffle(Innings1)\n",
    "P = int(Innings1.shape[0]*0.9)\n",
    "train,test = Innings1[:P,:],Innings1[P:,:]"
   ]
  },
  {
   "cell_type": "code",
   "execution_count": 164,
   "metadata": {},
   "outputs": [
    {
     "name": "stdout",
     "output_type": "stream",
     "text": [
      "[9.81109467e+01 6.23934689e+01 2.23352346e+02 2.95436954e+02\n",
      " 3.14614932e+02 2.30069820e+03 5.91751535e+02 6.15283888e+02\n",
      " 6.01254699e+02 4.51087512e+02 3.09131354e+02 3.09298930e+02\n",
      " 2.52392260e+02 2.31022187e+02 2.39297301e+02 1.81801764e+02\n",
      " 1.75749843e+02 1.47397813e+02 1.36368752e+02 1.27365231e+02\n",
      " 1.20439044e+02 1.12228827e+02 1.06979433e+02 8.14631265e+01\n",
      " 7.35946044e+01 7.45518704e+01 7.09066128e+01 6.96139882e+01\n",
      " 6.43192768e+01 5.20095116e+01 4.80301418e+01 4.55997131e+01\n",
      " 4.05401142e+01 3.25424447e+01 2.62868450e+01 2.54435307e+01\n",
      " 2.54388985e+01 2.09333364e+01 1.65341346e+01 1.88895494e+01\n",
      " 1.74677000e+01 1.33557682e+01 1.25369528e+01 1.26652611e+01\n",
      " 9.35231487e+00 8.19370045e+00 4.50481523e+00 3.04358041e+00\n",
      " 2.16814464e+00 1.90596803e+00]\n"
     ]
    }
   ],
   "source": [
    "error = np.zeros(50)\n",
    "for inning in test[np.random.randint(0,test.shape[0],20),:]:\n",
    "    for intervention_point in range(50):\n",
    "        Z = np.zeros(2*intervention_point)\n",
    "        Z[:intervention_point],Z[intervention_point:] = inning[:intervention_point],inning[50:50+intervention_point]\n",
    "        prediction = mRSC(Z,train,intervention_point,10)\n",
    "        error[intervention_point] += sqrt(np.mean(np.square(inning-prediction)))\n",
    "error /= 20\n",
    "print(error)"
   ]
  }
 ],
 "metadata": {
  "interpreter": {
   "hash": "90394354f2cfeca35a3af5115b1d54f07220089b98fac47b1b332d34b6b3af41"
  },
  "kernelspec": {
   "display_name": "Python 3.7.11 64-bit ('e0_259_da': conda)",
   "language": "python",
   "name": "python3"
  },
  "language_info": {
   "codemirror_mode": {
    "name": "ipython",
    "version": 3
   },
   "file_extension": ".py",
   "mimetype": "text/x-python",
   "name": "python",
   "nbconvert_exporter": "python",
   "pygments_lexer": "ipython3",
   "version": "3.7.11"
  },
  "orig_nbformat": 4
 },
 "nbformat": 4,
 "nbformat_minor": 2
}
